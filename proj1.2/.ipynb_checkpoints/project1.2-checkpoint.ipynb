{
 "cells": [
  {
   "cell_type": "code",
   "execution_count": 1,
   "metadata": {},
   "outputs": [],
   "source": [
    "import numpy as np\n",
    "import random"
   ]
  },
  {
   "cell_type": "code",
   "execution_count": 2,
   "metadata": {},
   "outputs": [],
   "source": [
    "np.random.seed(42)\n",
    "random.seed(42)"
   ]
  },
  {
   "cell_type": "code",
   "execution_count": 3,
   "metadata": {},
   "outputs": [],
   "source": [
    "def import_data(file_path):\n",
    "    data_target = [ ]\n",
    "    data_input =  [ ]\n",
    "    with open(file_path,  'r') as f:\n",
    "        while True:\n",
    "            data_str = f.readline().split(' ')\n",
    "            if not data_str[0]:\n",
    "                break\n",
    "            data_target.append(float(data_str[0]))\n",
    "            data_input.append([float(a.split(':')[1]) for a in data_str[2:48]])\n",
    "    x = np.array(data_input)\n",
    "    y = np.array(data_target).reshape((-1, 1))\n",
    "    \n",
    "    return x, y"
   ]
  },
  {
   "cell_type": "code",
   "execution_count": 4,
   "metadata": {
    "scrolled": true
   },
   "outputs": [
    {
     "name": "stdout",
     "output_type": "stream",
     "text": [
      "X shape is (69623, 46) \n",
      "Y shape is (69623, 1)\n"
     ]
    }
   ],
   "source": [
    "file_path = r'C:\\Users\\zhao2\\Documents\\CSE474\\Project1.2-Python-Code_\\Querylevelnorm_t.csv'\n",
    "x, y = import_data(file_path)\n",
    "print(\"X shape is\", x.shape, \"\\nY shape is\", y.shape)"
   ]
  },
  {
   "cell_type": "code",
   "execution_count": 5,
   "metadata": {},
   "outputs": [
    {
     "ename": "NameError",
     "evalue": "name 'GetTargetVector' is not defined",
     "output_type": "error",
     "traceback": [
      "\u001b[1;31m---------------------------------------------------------------------------\u001b[0m",
      "\u001b[1;31mNameError\u001b[0m                                 Traceback (most recent call last)",
      "\u001b[1;32m<ipython-input-5-9c1920849181>\u001b[0m in \u001b[0;36m<module>\u001b[1;34m()\u001b[0m\n\u001b[1;32m----> 1\u001b[1;33m \u001b[0mprint\u001b[0m\u001b[1;33m(\u001b[0m\u001b[0mGetTargetVector\u001b[0m\u001b[1;33m(\u001b[0m\u001b[0mfile_path\u001b[0m\u001b[1;33m)\u001b[0m\u001b[1;33m)\u001b[0m\u001b[1;33m\u001b[0m\u001b[0m\n\u001b[0m",
      "\u001b[1;31mNameError\u001b[0m: name 'GetTargetVector' is not defined"
     ]
    }
   ],
   "source": [
    "print( GetTargetVector('C:\\Users\\zhao2\\Documents\\CSE474\\Project1.2-Python-Code_\\Querylevelnorm_t.csv' )"
   ]
  },
  {
   "cell_type": "code",
   "execution_count": null,
   "metadata": {},
   "outputs": [],
   "source": [
    "def GetTargetVector(file_path):\n",
    "    t = []\n",
    "    with open(file_path, 'rU') as f:\n",
    "        reader = csv.reader(f)\n",
    "        for row in reader:  \n",
    "            t.append(int(row[0]))\n",
    "    #print(\"Raw Training Generated..\")\n",
    "    return t"
   ]
  },
  {
   "cell_type": "code",
   "execution_count": null,
   "metadata": {},
   "outputs": [],
   "source": [
    "def phi(x, mu, sigma):\n",
    "    \n",
    "    l= len(mu)\n",
    "    res = np.empty((x.shape[0], l))\n",
    "    for i in range(1):\n",
    "        arg=x - mu[i]\n",
    "        sigma_inv = np.linalg.pinv(sigma[i])\n",
    "        for j in range(x.shape[0]):\n",
    "            tmp = arg[j, :].reshape((-1, 1))\n",
    "            res[j, i] = np.exp(tmp.T.dot(sigma_inv).dot(tmp))\n",
    "    return res"
   ]
  },
  {
   "cell_type": "code",
   "execution_count": null,
   "metadata": {},
   "outputs": [],
   "source": [
    "n, m = x.shape\n",
    "\n",
    "# Data partition\n",
    "n_train = int(0.8 * n)\n",
    "n_valid = int((n - n_train) / 2)\n",
    "\n",
    "x_train = x[:n_train, :]\n",
    "x_valid = x[n_train:n_train + n_valid, :]\n",
    "x_test = x[n_train + n_valid:, :]\n",
    "\n",
    "y_train = y[:n_train, :]\n",
    "y_valid = y[n_train:n_train + n_valid, :]\n",
    "y_test = y[n_train + n_valid:, :]\n"
   ]
  }
 ],
 "metadata": {
  "kernelspec": {
   "display_name": "Python 3",
   "language": "python",
   "name": "python3"
  },
  "language_info": {
   "codemirror_mode": {
    "name": "ipython",
    "version": 3
   },
   "file_extension": ".py",
   "mimetype": "text/x-python",
   "name": "python",
   "nbconvert_exporter": "python",
   "pygments_lexer": "ipython3",
   "version": "3.6.5"
  }
 },
 "nbformat": 4,
 "nbformat_minor": 2
}
